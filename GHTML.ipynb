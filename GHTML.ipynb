{
 "cells": [
  {
   "cell_type": "markdown",
   "metadata": {},
   "source": [
    "# Importing necessary python libraries"
   ]
  },
  {
   "cell_type": "code",
   "execution_count": 1,
   "metadata": {},
   "outputs": [],
   "source": [
    "from bs4 import BeautifulSoup as soup\n",
    "import pickle as pkl\n",
    "import re\n",
    "import codecs\n",
    "import os"
   ]
  },
  {
   "cell_type": "markdown",
   "metadata": {},
   "source": [
    "# Loading HTML file to process"
   ]
  },
  {
   "cell_type": "code",
   "execution_count": 2,
   "metadata": {},
   "outputs": [
    {
     "name": "stdout",
     "output_type": "stream",
     "text": [
      "Enter the filename in htmls folder: html46\n"
     ]
    }
   ],
   "source": [
    "filename=input(\"Enter the filename in htmls folder: \")\n",
    "file = open(\"htmls/\"+ filename +\".html\", \"rb\")"
   ]
  },
  {
   "cell_type": "markdown",
   "metadata": {},
   "source": [
    "# Converting the HTML in soup"
   ]
  },
  {
   "cell_type": "code",
   "execution_count": 3,
   "metadata": {},
   "outputs": [],
   "source": [
    "data = soup(file)"
   ]
  },
  {
   "cell_type": "markdown",
   "metadata": {},
   "source": [
    "# Saving all \"div\" tags into a list"
   ]
  },
  {
   "cell_type": "code",
   "execution_count": 4,
   "metadata": {},
   "outputs": [],
   "source": [
    "all_divs = []\n",
    "for div in data.findAll(\"div\"):\n",
    "    if div.has_attr('class'):\n",
    "        all_divs.append(div)"
   ]
  },
  {
   "cell_type": "markdown",
   "metadata": {},
   "source": [
    "# Extracting style from the html"
   ]
  },
  {
   "cell_type": "code",
   "execution_count": 5,
   "metadata": {},
   "outputs": [],
   "source": [
    "style = data.findAll(\"style\")[0]"
   ]
  },
  {
   "cell_type": "code",
   "execution_count": 6,
   "metadata": {},
   "outputs": [],
   "source": [
    "st_classes=[]\n",
    "for line in style:\n",
    "    stdivs = (line.replace(\"<!--\",\"\").strip().split(\"\\n\"))\n",
    "    st_classes = stdivs"
   ]
  },
  {
   "cell_type": "markdown",
   "metadata": {},
   "source": [
    "# Creating functions to get css properties from class name "
   ]
  },
  {
   "cell_type": "code",
   "execution_count": 7,
   "metadata": {},
   "outputs": [],
   "source": [
    "def getprops(cls, tag):\n",
    "    di = {}\n",
    "    for st in st_classes:\n",
    "        if cls in st and tag in st:\n",
    "            st1 = st.split(\"{\")[1].replace(\"}\",\"\")\n",
    "            spl = st1.split(\";\")\n",
    "            for sp in spl:\n",
    "                ssp = sp.split(\":\")\n",
    "                if len(ssp) > 1:\n",
    "                    di[ssp[0]] = ssp[1].replace(\"\\r\",\"\")\n",
    "    return di"
   ]
  },
  {
   "cell_type": "markdown",
   "metadata": {},
   "source": [
    "# Function to split the hardcoded css properties"
   ]
  },
  {
   "cell_type": "code",
   "execution_count": 8,
   "metadata": {},
   "outputs": [],
   "source": [
    "def getcprops(stl):\n",
    "    di = {}\n",
    "    spl = stl.split(\";\")\n",
    "    for s in spl:\n",
    "        s1 = s.split(\":\")\n",
    "        if len(s1) > 1:\n",
    "            di[s1[0]] = s1[1]\n",
    "    \n",
    "    return di"
   ]
  },
  {
   "cell_type": "markdown",
   "metadata": {},
   "source": [
    "# Function to check if a line has date in it"
   ]
  },
  {
   "cell_type": "code",
   "execution_count": 9,
   "metadata": {},
   "outputs": [],
   "source": [
    "def checkifdate(txt):\n",
    "    dt = False\n",
    "    #clean\n",
    "    ct=\"\"\n",
    "    for t in txt:\n",
    "        if t.isalpha() or t.isdigit() or t==\" \":\n",
    "            ct=ct+t\n",
    "    \n",
    "    sp = ct.split(\" \")\n",
    "    for s in sp:\n",
    "        if len(s) >= 4 and (\"18\" in s or \"19\" in s):\n",
    "            if s.isdigit():\n",
    "                dt=True\n",
    "                    \n",
    "    return dt"
   ]
  },
  {
   "cell_type": "markdown",
   "metadata": {},
   "source": [
    "# Extracting all \"div\" tags which have the titles"
   ]
  },
  {
   "cell_type": "code",
   "execution_count": 10,
   "metadata": {},
   "outputs": [],
   "source": [
    "head_divs=[]\n",
    "for div in all_divs:\n",
    "    if div.has_attr(\"class\"):\n",
    "        di = getprops((div['class'][0]), \"div\")\n",
    "        if('font-size' in di):\n",
    "            if(di['font-size'] == \"12.1px\") and di['font-style'] == \"italic\" and div.text[0].isdigit():\n",
    "                head_divs.append(div)"
   ]
  },
  {
   "cell_type": "markdown",
   "metadata": {},
   "source": [
    "# Spliting while document into blocks, same as number of titles"
   ]
  },
  {
   "cell_type": "code",
   "execution_count": 11,
   "metadata": {},
   "outputs": [],
   "source": [
    "blocks = []\n",
    "\n",
    "for head in head_divs:\n",
    "    try:\n",
    "        blocks.append(all_divs[all_divs.index(head):all_divs.index(head_divs[(head_divs.index(head)+1)])])\n",
    "    except:\n",
    "        pass\n",
    "\n",
    "blocks.append(all_divs[all_divs.index(head_divs[-1]):])"
   ]
  },
  {
   "cell_type": "markdown",
   "metadata": {},
   "source": [
    "# Function to create an empty list of length equal to number of titles"
   ]
  },
  {
   "cell_type": "code",
   "execution_count": 12,
   "metadata": {},
   "outputs": [],
   "source": [
    "def elist():\n",
    "    li = []\n",
    "    for b in blocks:\n",
    "        li.append(\"\")\n",
    "    return li"
   ]
  },
  {
   "cell_type": "markdown",
   "metadata": {},
   "source": [
    "# Breaking each \"div\" of the block into \"span\" "
   ]
  },
  {
   "cell_type": "code",
   "execution_count": 13,
   "metadata": {},
   "outputs": [],
   "source": [
    "block_ar=[]\n",
    "for block in blocks:\n",
    "    div_ar=[]\n",
    "    for div in block:\n",
    "        span_ar=[]\n",
    "        for span in div.findAll(\"span\"):\n",
    "            span_ar.append(span)\n",
    "        \n",
    "        div_ar.append([span_ar,div['style']])\n",
    "    \n",
    "    block_ar.append(div_ar)"
   ]
  },
  {
   "cell_type": "markdown",
   "metadata": {},
   "source": [
    "# Extracting titles"
   ]
  },
  {
   "cell_type": "code",
   "execution_count": 14,
   "metadata": {},
   "outputs": [],
   "source": [
    "titles=[]\n",
    "for block in block_ar:\n",
    "    for div in block:\n",
    "        if block.index(div) == 0:\n",
    "            for spans in div[:-1]:\n",
    "                txt = \"\"\n",
    "                for span in spans:\n",
    "                    txt = txt+span.text\n",
    "                titles.append(txt)"
   ]
  },
  {
   "cell_type": "markdown",
   "metadata": {},
   "source": [
    "# Extracting dates"
   ]
  },
  {
   "cell_type": "code",
   "execution_count": 15,
   "metadata": {},
   "outputs": [],
   "source": [
    "dates=elist()\n",
    "\n",
    "for block in block_ar:\n",
    "    for div in block:\n",
    "        if block.index(div) > 0:\n",
    "            for spans in div[:-1]:\n",
    "                txt = \"\"\n",
    "                di = getcprops(div[1])\n",
    "                float(di['left'].replace(\"px\",\"\"))\n",
    "                if float(di['left'].replace(\"px\",\"\")) >200:\n",
    "                    for span in spans:\n",
    "                        txt = txt + span.text\n",
    "\n",
    "                if checkifdate(txt):\n",
    "                    dates[block_ar.index(block)] = (txt)"
   ]
  },
  {
   "cell_type": "markdown",
   "metadata": {},
   "source": [
    "# Extracting cities"
   ]
  },
  {
   "cell_type": "code",
   "execution_count": null,
   "metadata": {},
   "outputs": [],
   "source": [
    "city=elist()\n",
    "for block in block_ar:\n",
    "    for div in block:\n",
    "        if block.index(div) > 0 and block.index(div) < 5:\n",
    "            for spans in div[:-1]:\n",
    "                txt = \"\"\n",
    "                di = getcprops(div[1])\n",
    "                lf = float(di['left'].replace(\"px\",\"\"))\n",
    "                if lf > 200:\n",
    "                    clss=[]\n",
    "                    for span in spans:\n",
    "                        txt = txt + (span.text)\n",
    "                        dii = getprops(span['class'][0], \"span\")\n",
    "                        if span['class'][0] not in clss:\n",
    "                            clss.append(clss)\n",
    "                            \n",
    "                    if len(clss) >= 2 and not checkifdate(txt):\n",
    "                        city[block_ar.index(block)] = (txt)\n",
    "                        break"
   ]
  },
  {
   "cell_type": "markdown",
   "metadata": {},
   "source": [
    "# Extracting text"
   ]
  },
  {
   "cell_type": "code",
   "execution_count": null,
   "metadata": {},
   "outputs": [],
   "source": [
    "wcontent=elist()\n",
    "for block in block_ar:\n",
    "    content=[]\n",
    "    c=0\n",
    "    rest=False\n",
    "    last_top=0\n",
    "    for div in block:\n",
    "        if block.index(div) > 0:\n",
    "            di = getcprops(div[1])\n",
    "            lf = float(di['left'].replace(\"px\",\"\"))\n",
    "            txt1 = \"\"\n",
    "            if lf < 200:\n",
    "                for spans in div[0]:\n",
    "                    txt1 = txt1 + spans.text\n",
    "                    sup = spans.findAll(\"sup\")\n",
    "                    if len(sup) > 0 and div[0].index(spans) == 0:\n",
    "                        rest=True\n",
    "                        last_top = float(di['top'].replace(\"px\",\"\"))\n",
    "                          \n",
    "                tp = float(di['top'].replace(\"px\",\"\"))\n",
    "                if tp-last_top >= 15:\n",
    "                    rest=False\n",
    "                        \n",
    "            if rest==False and not \"vol.\" in txt1.lower() and txt1 not in content and not \"[\" in txt1 and not \"]\" in txt1:\n",
    "                if len(txt1) > 3 and not txt1.isdigit():\n",
    "                    content.append(txt1)\n",
    "\n",
    "    wcontent[block_ar.index(block)] = (content)\n",
    "    content=[]"
   ]
  },
  {
   "cell_type": "markdown",
   "metadata": {},
   "source": [
    "# Extracting dates at bottom (if any)"
   ]
  },
  {
   "cell_type": "code",
   "execution_count": null,
   "metadata": {},
   "outputs": [],
   "source": [
    "metas=elist()\n",
    "\n",
    "for content in wcontent:\n",
    "    m = content[-1]\n",
    "    \n",
    "    if checkifdate(m):\n",
    "        metas[wcontent.index(content)] = m"
   ]
  },
  {
   "cell_type": "markdown",
   "metadata": {},
   "source": [
    "# Setting type of the document"
   ]
  },
  {
   "cell_type": "code",
   "execution_count": null,
   "metadata": {},
   "outputs": [],
   "source": [
    "types=[]\n",
    "for title in titles:\n",
    "    if \"letter\" in title.lower() or \"cable\" in title.lower() or \"message\" in title.lower() or \"telegram\" in title.lower():\n",
    "        types.append(\"private_correspondence\")\n",
    "    else:\n",
    "        if \"speech\" in title.lower():\n",
    "            types.append(\"speech\")\n",
    "        else:\n",
    "            if \"interview\" in title.lower():\n",
    "                types.append(\"interview\")\n",
    "            else:\n",
    "                if \"statement\" in title.lower():\n",
    "                    types.append(\"statement\")\n",
    "                else:\n",
    "                    if \"notes\" in title.lower():\n",
    "                        types.append(\"column\")\n",
    "                    else:\n",
    "                        if \"discussion\" in title.lower():\n",
    "                            types.append(\"discussion\")\n",
    "                        else:\n",
    "                            types.append(\"\")"
   ]
  },
  {
   "cell_type": "markdown",
   "metadata": {},
   "source": [
    "# Setting format of document"
   ]
  },
  {
   "cell_type": "code",
   "execution_count": null,
   "metadata": {},
   "outputs": [],
   "source": [
    "dformat = elist()\n",
    "for title in titles:\n",
    "    i=titles.index(title)\n",
    "    if \"letter\" in title.lower() or \"cable\" in title.lower() or \"message\" in title.lower() or \"diary\" in title.lower():\n",
    "        dformat[i] = \"pr\"\n",
    "    else:\n",
    "        if \"interview\" in title.lower():\n",
    "            dformat[i] = \"np\""
   ]
  },
  {
   "cell_type": "markdown",
   "metadata": {},
   "source": [
    "# Merging all components"
   ]
  },
  {
   "cell_type": "code",
   "execution_count": null,
   "metadata": {},
   "outputs": [],
   "source": [
    "final_data=[]\n",
    "for i in range(len(block_ar)):\n",
    "    mydict={}\n",
    "    mydict['date'] = dates[i]\n",
    "    mydict['content'] = wcontent[i]\n",
    "    mydict['city'] = city[i]\n",
    "    mydict['meta'] = metas[i]\n",
    "    mydict['title'] = titles[i]\n",
    "    mydict['type'] = types[i]\n",
    "    mydict['format'] = dformat[i]\n",
    "    final_data.append(mydict)"
   ]
  },
  {
   "cell_type": "code",
   "execution_count": null,
   "metadata": {},
   "outputs": [],
   "source": [
    "for f in final_data:\n",
    "    if f['meta'] != \"\":\n",
    "        if f['meta'] in f['content']:\n",
    "            del f['content'][f['content'].index(f['meta'])]\n",
    "            \n",
    "    for c in f['content'][5:]:\n",
    "        if len(c) < 30 and c.strip()[-1] != \".\":\n",
    "            del f['content'][f['content'].index(c)]\n",
    "        if \"From\" in c[:6]:\n",
    "            if c in f['content']:\n",
    "                del f['content'][f['content'].index(c)]"
   ]
  },
  {
   "cell_type": "markdown",
   "metadata": {},
   "source": [
    "# Getting date from bottom with regex"
   ]
  },
  {
   "cell_type": "code",
   "execution_count": null,
   "metadata": {},
   "outputs": [],
   "source": [
    "def getbottomdate(btxt):\n",
    "    dateregex1 = re.compile(r'\\d-\\d-\\d\\d\\d\\d')\n",
    "    dateregex2 = re.compile(r'\\d-\\d\\d-\\d\\d\\d\\d')\n",
    "    dateregex3 = re.compile(r'\\d\\d-\\d\\d-\\d\\d\\d\\d')\n",
    "    dateregex4 = re.compile(r'\\d\\d-\\d-\\d\\d\\d\\d')\n",
    "\n",
    "    dt1 = (dateregex1.search(btxt))\n",
    "    dt2 = (dateregex2.search(btxt))\n",
    "    dt3 = (dateregex3.search(btxt))\n",
    "    dt4 = (dateregex4.search(btxt))\n",
    "\n",
    "    dt=\"\"\n",
    "\n",
    "    if dt1 is not None:\n",
    "        dt = (dt1.group(0))\n",
    "\n",
    "    if dt2 is not None:\n",
    "        dt = (dt2.group(0))\n",
    "\n",
    "    if dt3 is not None:\n",
    "        dt = (dt3.group(0))\n",
    "\n",
    "    if dt4 is not None:\n",
    "        dt = (dt4.group(0))\n",
    "\n",
    "    if len(dt) >= 8:\n",
    "        return dt\n",
    "    else:\n",
    "        return \"\""
   ]
  },
  {
   "cell_type": "code",
   "execution_count": null,
   "metadata": {},
   "outputs": [],
   "source": [
    "for final in final_data:\n",
    "    if final['meta'] != \"\":\n",
    "        fdt = (getbottomdate(final['meta']))\n",
    "        if fdt != \"\":\n",
    "            final['meta'] = fdt\n",
    "        else:\n",
    "            final['meta'] = \"\""
   ]
  },
  {
   "cell_type": "markdown",
   "metadata": {},
   "source": [
    "# Function to format date"
   ]
  },
  {
   "cell_type": "code",
   "execution_count": null,
   "metadata": {},
   "outputs": [],
   "source": [
    "def getdate(dttxt):\n",
    "    mn=\"\"\n",
    "    dt=\"\"\n",
    "    yr=\"\"\n",
    "    \n",
    "    months=['jan','feb', 'mar', 'apr', 'may', 'jun', 'jul','aug','sept','oct','nov','dec']\n",
    "    for month in months:\n",
    "        if month in dttxt.lower():\n",
    "            mn = str(months.index(month)+1)\n",
    "            \n",
    "    yrregex1 = re.compile(r\"\\d\\d\\d\\d\")\n",
    "    dtregex1 = re.compile(r\"\\d\")\n",
    "    dtregex2 = re.compile(r\"\\d\\d\")\n",
    "    \n",
    "    yr1 = yrregex1.search(dttxt)\n",
    "    if yr1 is not None:\n",
    "        yr = yr1.group(0)\n",
    "    \n",
    "    dt1 = dtregex1.search(dttxt.replace(yr,\"\"))\n",
    "    dt2 = dtregex2.search(dttxt.replace(yr,\"\"))\n",
    "    \n",
    "    if dt1 is not None:\n",
    "        dt = dt1.group(0)\n",
    "    if dt2 is not None:\n",
    "        dt = dt2.group(0)\n",
    "        \n",
    "    if (len(dt) == 1 or len(dt) == 2) and (len(mn) == 1 or len(mn) == 2) and (len(yr) == 4):\n",
    "        return (dt+\"-\"+mn+\"-\"+yr)\n",
    "    else:\n",
    "        return \"\""
   ]
  },
  {
   "cell_type": "code",
   "execution_count": null,
   "metadata": {},
   "outputs": [],
   "source": [
    "for final in final_data:\n",
    "    rdt = getdate(final['date'])\n",
    "    if len(rdt) >= 8:\n",
    "        final['date'] = (rdt)\n",
    "    else:\n",
    "        final['date'] = \"\""
   ]
  },
  {
   "cell_type": "markdown",
   "metadata": {},
   "source": [
    "# Replacing empty dates with bottom dates"
   ]
  },
  {
   "cell_type": "code",
   "execution_count": null,
   "metadata": {},
   "outputs": [],
   "source": [
    "for final in final_data:\n",
    "    if final['date'] == \"\":\n",
    "        final['date'] = final['meta']"
   ]
  },
  {
   "cell_type": "markdown",
   "metadata": {},
   "source": [
    "# Function to get empty dates by average"
   ]
  },
  {
   "cell_type": "code",
   "execution_count": null,
   "metadata": {},
   "outputs": [],
   "source": [
    "def getavdate(dtin):\n",
    "    if dtin > 0:\n",
    "        pd = \"\"\n",
    "        nd = \"\"\n",
    "        pd = (final_data[dtin-1]['date'])\n",
    "        \n",
    "        for f in final_data[dtin:]:\n",
    "            if f['date'] != \"\":\n",
    "                nd = (final_data[dtin+1]['date'])\n",
    "                break\n",
    "        \n",
    "        dictpd={}\n",
    "        dictnd={}\n",
    "        if pd != \"\" and nd != \"\":\n",
    "            spd = pd.split(\"-\")\n",
    "            dictpd['dt'] = spd[0]\n",
    "            dictpd['mn'] = spd[1]\n",
    "            dictpd['yr'] = spd[2]\n",
    "            \n",
    "            snd = nd.split(\"-\")\n",
    "            dictnd['dt'] = snd[0]\n",
    "            dictnd['mn'] = snd[1]\n",
    "            dictnd['yr'] = snd[2]\n",
    "            \n",
    "            summ = int(dictpd['dt']) + ((int(dictnd['yr']) - int(dictpd['yr']))*12 + int(dictnd['mn']) - int(dictpd['mn']))*30 + int(dictnd['dt'])\n",
    "            avg = summ/2\n",
    "\n",
    "            nnd = \"\"\n",
    "            nnm = \"\"\n",
    "            nny = \"\"\n",
    "            if int(avg) > 30:\n",
    "                n = int(avg)-30\n",
    "                if int(dictpd['mn']) < 12:\n",
    "                    nnm = str(int(dictpd['mn'])+1)\n",
    "                    nny = str(int(dictpd['yr'])+1)\n",
    "                else:\n",
    "                    nnm = str(1)\n",
    "\n",
    "                nnd = str(int(dictpd['dt'])+n)\n",
    "\n",
    "            else:\n",
    "                n=int(avg)\n",
    "                nnd = str(n)\n",
    "                nnm = str(dictpd['mn'])\n",
    "                nny = str(dictpd['yr'])\n",
    "\n",
    "            return (nnd+\"-\"+nnm+\"-\"+nny)\n",
    "        else:\n",
    "            return \"\"\n",
    "    else:\n",
    "        nd = \"\"\n",
    "        for f in final_data:\n",
    "            if f['date'] != \"\":\n",
    "                nd = (f['date'])\n",
    "                break\n",
    "        \n",
    "        nnd = \"\"\n",
    "        nnm = \"\"\n",
    "        nny = \"\"\n",
    "        \n",
    "        snd = nd.split(\"-\")\n",
    "        if int(snd[1]) <= 12: \n",
    "            if int(snd[0]) > 5:\n",
    "                nnd = str(int(snd[0])-5)\n",
    "                nnm = str(int(snd[1]))\n",
    "                nny = str(int(snd[2]))\n",
    "            else:\n",
    "                nnd = str(24)\n",
    "                nnm = str(int(snd[1])-1)\n",
    "                nny = str(int(snd[2]))\n",
    "        else:\n",
    "            if int(snd[0]) > 5:\n",
    "                nnd = str(int(snd[0])-5)\n",
    "                nnm = str(int(snd[1]))\n",
    "                nny = str(int(snd[2]))\n",
    "            else:\n",
    "                nnd = str(24)\n",
    "                nnm = str(12)\n",
    "                nny = str(int(snd[2])-1)\n",
    "        \n",
    "        return (nnd+\"-\"+nnm+\"-\"+nny)"
   ]
  },
  {
   "cell_type": "code",
   "execution_count": null,
   "metadata": {
    "scrolled": true
   },
   "outputs": [],
   "source": [
    "for final in final_data:\n",
    "    if final['date'] == \"\":\n",
    "        ad = getavdate(final_data.index(final))\n",
    "        final['date'] = ad"
   ]
  },
  {
   "cell_type": "markdown",
   "metadata": {},
   "source": [
    "# Name code generator"
   ]
  },
  {
   "cell_type": "code",
   "execution_count": null,
   "metadata": {},
   "outputs": [],
   "source": [
    "from random import randint\n",
    "def generatename(txt):\n",
    "    if len(txt) >= 8:\n",
    "        sp = txt.split(\"-\")\n",
    "        dt = sp[0]\n",
    "        mn = sp[1]\n",
    "        yr = sp[2]\n",
    "        rn = randint(100000, 999999)\n",
    "        if len(dt) == 1:\n",
    "            dt = \"0\"+dt\n",
    "        if len(mn) == 1:\n",
    "            mn = \"0\"+mn\n",
    "            \n",
    "        return \"t\"+dt+mn+yr+str(rn)\n",
    "    else:\n",
    "        return \"\""
   ]
  },
  {
   "cell_type": "markdown",
   "metadata": {},
   "source": [
    "# Creating text files"
   ]
  },
  {
   "cell_type": "code",
   "execution_count": null,
   "metadata": {},
   "outputs": [],
   "source": [
    "# for fi in final_data:\n",
    "#     tl=\"\"\n",
    "#     dt=\"\"\n",
    "#     ct=\"\"\n",
    "#     co=\"\"\n",
    "#     tp=\"\"\n",
    "#     fo=\"\"\n",
    "    \n",
    "#     if fi['title'] != \"\":\n",
    "#         tl = fi['title']\n",
    "#     else:\n",
    "#         tl = \"notitle\"\n",
    "        \n",
    "#     if fi['date'] != \"\":\n",
    "#         dt = fi['date']\n",
    "#     else:\n",
    "#         dt=\"nodate\"\n",
    "        \n",
    "#     if fi['city'] != \"\":\n",
    "#         ct = fi['city']\n",
    "#     else:\n",
    "#         ct=\"nocity\"\n",
    "        \n",
    "#     if len(fi['content']) > 0:\n",
    "#         co = \"\\n\".join(fi['content'])\n",
    "#     else:\n",
    "#         co = \"nocontent\"\n",
    "        \n",
    "#     if fi['type'] != \"\":\n",
    "#         tp = fi['type']\n",
    "#     else:\n",
    "#         tp = \"enter_type\"\n",
    "        \n",
    "#     if fi['format'] != \"\":\n",
    "#         fo = fi['format']\n",
    "#     else:\n",
    "#         fo = \"enter_format\"\n",
    "        \n",
    "#     fx = tl + \"\\n\\n\\n\" + ct + \"\\n\\n\\n\" + dt + \"\\n\\n\\n\" + tp +\"\\n\\n\\n\" +fo+\"\\n\\n\\n\" + co\n",
    "    \n",
    "#     try:\n",
    "#         os.makedirs(\"GandhiTexts/\"+filename+\"/complete\")\n",
    "#         os.makedirs(\"GandhiTexts/\"+filename+\"/incomplete\")\n",
    "#     except:\n",
    "#         pass\n",
    "    \n",
    "#     fn=tl\n",
    "#     if fi['date'] != \"\":\n",
    "#         fn = generatename(fi['date'])\n",
    "#     if tl != \"nptitle\" and ct != \"nocity\" and dt != \"nodate\" and tp != \"enter_type\" and tp != \"speech\" and tp != \"statement\" and fo != \"enter_format\":\n",
    "#         file = codecs.open(\"GandhiTexts/\"+filename+\"/complete/\"+fn+\".txt\", \"w\", \"utf-8\")\n",
    "#         file.write(fx)\n",
    "#         file.close()\n",
    "#     else:\n",
    "#         file = codecs.open(\"GandhiTexts/\"+filename+\"/incomplete/\"+fn+\".txt\", \"w\", \"utf-8\")\n",
    "#         file.write(fx)\n",
    "#         file.close()"
   ]
  },
  {
   "cell_type": "markdown",
   "metadata": {},
   "source": [
    "# Creating final Excel Sheet"
   ]
  },
  {
   "cell_type": "code",
   "execution_count": null,
   "metadata": {},
   "outputs": [],
   "source": [
    "import xlwt \n",
    "from xlwt import Workbook"
   ]
  },
  {
   "cell_type": "code",
   "execution_count": null,
   "metadata": {},
   "outputs": [],
   "source": [
    "wb = Workbook()  \n",
    "\n",
    "try:\n",
    "    os.makedirs(\"GandhiTexts\")\n",
    "except:\n",
    "    pass\n",
    "\n",
    "for fi in final_data:\n",
    "    fn=fi['title']\n",
    "    if fi['date'] != \"\":\n",
    "        fn = generatename(fi['date'])\n",
    "    \n",
    "    mind = final_data.index(fi)\n",
    "    \n",
    "    sheet1 = wb.add_sheet(str(mind))\n",
    "    \n",
    "    co = \"\\n\".join(fi['content'][:20])\n",
    "    \n",
    "    sheet1.write(0, 0, fn)\n",
    "    sheet1.write(0, 1, fi['title'])\n",
    "    sheet1.write(0, 2, fi['city'])\n",
    "    sheet1.write(0, 3, fi['date'])\n",
    "    sheet1.write(0, 4, fi['type'])\n",
    "    sheet1.write(0, 5, fi['format'])\n",
    "    \n",
    "    for line in fi['content']:\n",
    "        sheet1.write(fi['content'].index(line), 6, line)\n",
    "\n",
    "wb.save('GandhiTexts/'+ filename +'.xls')"
   ]
  },
  {
   "cell_type": "code",
   "execution_count": null,
   "metadata": {},
   "outputs": [],
   "source": []
  },
  {
   "cell_type": "code",
   "execution_count": null,
   "metadata": {},
   "outputs": [],
   "source": []
  }
 ],
 "metadata": {
  "kernelspec": {
   "display_name": "Python 3",
   "language": "python",
   "name": "python3"
  },
  "language_info": {
   "codemirror_mode": {
    "name": "ipython",
    "version": 3
   },
   "file_extension": ".py",
   "mimetype": "text/x-python",
   "name": "python",
   "nbconvert_exporter": "python",
   "pygments_lexer": "ipython3",
   "version": "3.5.3"
  }
 },
 "nbformat": 4,
 "nbformat_minor": 4
}
