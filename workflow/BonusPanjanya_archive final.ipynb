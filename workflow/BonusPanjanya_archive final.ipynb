{
 "cells": [
  {
   "cell_type": "code",
   "execution_count": 19,
   "metadata": {},
   "outputs": [
    {
     "ename": "KeyboardInterrupt",
     "evalue": "",
     "output_type": "error",
     "traceback": [
      "\u001b[0;31m---------------------------------------------------------------------------\u001b[0m",
      "\u001b[0;31mKeyboardInterrupt\u001b[0m                         Traceback (most recent call last)",
      "\u001b[0;32m<ipython-input-19-966574336d00>\u001b[0m in \u001b[0;36m<module>\u001b[0;34m\u001b[0m\n\u001b[1;32m     62\u001b[0m     \u001b[0;31m#with open('a{}{}{}{}.txt'.format(year,month,date,code[j]),'w') as f:\u001b[0m\u001b[0;34m\u001b[0m\u001b[0;34m\u001b[0m\u001b[0;34m\u001b[0m\u001b[0m\n\u001b[1;32m     63\u001b[0m     \u001b[0murl\u001b[0m\u001b[0;34m=\u001b[0m\u001b[0mll\u001b[0m\u001b[0;34m[\u001b[0m\u001b[0mj\u001b[0m\u001b[0;34m]\u001b[0m\u001b[0;34m\u001b[0m\u001b[0;34m\u001b[0m\u001b[0m\n\u001b[0;32m---> 64\u001b[0;31m     \u001b[0mdriver\u001b[0m \u001b[0;34m=\u001b[0m \u001b[0mwebdriver\u001b[0m\u001b[0;34m.\u001b[0m\u001b[0mFirefox\u001b[0m\u001b[0;34m(\u001b[0m\u001b[0;34m)\u001b[0m\u001b[0;34m\u001b[0m\u001b[0;34m\u001b[0m\u001b[0m\n\u001b[0m\u001b[1;32m     65\u001b[0m     \u001b[0mdriver\u001b[0m\u001b[0;34m.\u001b[0m\u001b[0mget\u001b[0m\u001b[0;34m(\u001b[0m\u001b[0murl\u001b[0m\u001b[0;34m)\u001b[0m\u001b[0;34m\u001b[0m\u001b[0;34m\u001b[0m\u001b[0m\n\u001b[1;32m     66\u001b[0m     \u001b[0mobj\u001b[0m \u001b[0;34m=\u001b[0m \u001b[0mBeautifulSoup\u001b[0m\u001b[0;34m(\u001b[0m\u001b[0mdriver\u001b[0m\u001b[0;34m.\u001b[0m\u001b[0mpage_source\u001b[0m\u001b[0;34m,\u001b[0m \u001b[0;34m'html.parser'\u001b[0m\u001b[0;34m)\u001b[0m\u001b[0;34m\u001b[0m\u001b[0;34m\u001b[0m\u001b[0m\n",
      "\u001b[0;32m/Library/Frameworks/Python.framework/Versions/3.8/lib/python3.8/site-packages/selenium/webdriver/firefox/webdriver.py\u001b[0m in \u001b[0;36m__init__\u001b[0;34m(self, firefox_profile, firefox_binary, timeout, capabilities, proxy, executable_path, options, service_log_path, firefox_options, service_args, desired_capabilities, log_path, keep_alive)\u001b[0m\n\u001b[1;32m    162\u001b[0m                 \u001b[0mservice_args\u001b[0m\u001b[0;34m=\u001b[0m\u001b[0mservice_args\u001b[0m\u001b[0;34m,\u001b[0m\u001b[0;34m\u001b[0m\u001b[0;34m\u001b[0m\u001b[0m\n\u001b[1;32m    163\u001b[0m                 log_path=service_log_path)\n\u001b[0;32m--> 164\u001b[0;31m             \u001b[0mself\u001b[0m\u001b[0;34m.\u001b[0m\u001b[0mservice\u001b[0m\u001b[0;34m.\u001b[0m\u001b[0mstart\u001b[0m\u001b[0;34m(\u001b[0m\u001b[0;34m)\u001b[0m\u001b[0;34m\u001b[0m\u001b[0;34m\u001b[0m\u001b[0m\n\u001b[0m\u001b[1;32m    165\u001b[0m \u001b[0;34m\u001b[0m\u001b[0m\n\u001b[1;32m    166\u001b[0m             \u001b[0mcapabilities\u001b[0m\u001b[0;34m.\u001b[0m\u001b[0mupdate\u001b[0m\u001b[0;34m(\u001b[0m\u001b[0moptions\u001b[0m\u001b[0;34m.\u001b[0m\u001b[0mto_capabilities\u001b[0m\u001b[0;34m(\u001b[0m\u001b[0;34m)\u001b[0m\u001b[0;34m)\u001b[0m\u001b[0;34m\u001b[0m\u001b[0;34m\u001b[0m\u001b[0m\n",
      "\u001b[0;32m/Library/Frameworks/Python.framework/Versions/3.8/lib/python3.8/site-packages/selenium/webdriver/common/service.py\u001b[0m in \u001b[0;36mstart\u001b[0;34m(self)\u001b[0m\n\u001b[1;32m    100\u001b[0m                 \u001b[0;32mbreak\u001b[0m\u001b[0;34m\u001b[0m\u001b[0;34m\u001b[0m\u001b[0m\n\u001b[1;32m    101\u001b[0m             \u001b[0mcount\u001b[0m \u001b[0;34m+=\u001b[0m \u001b[0;36m1\u001b[0m\u001b[0;34m\u001b[0m\u001b[0;34m\u001b[0m\u001b[0m\n\u001b[0;32m--> 102\u001b[0;31m             \u001b[0mtime\u001b[0m\u001b[0;34m.\u001b[0m\u001b[0msleep\u001b[0m\u001b[0;34m(\u001b[0m\u001b[0;36m1\u001b[0m\u001b[0;34m)\u001b[0m\u001b[0;34m\u001b[0m\u001b[0;34m\u001b[0m\u001b[0m\n\u001b[0m\u001b[1;32m    103\u001b[0m             \u001b[0;32mif\u001b[0m \u001b[0mcount\u001b[0m \u001b[0;34m==\u001b[0m \u001b[0;36m30\u001b[0m\u001b[0;34m:\u001b[0m\u001b[0;34m\u001b[0m\u001b[0;34m\u001b[0m\u001b[0m\n\u001b[1;32m    104\u001b[0m                 \u001b[0;32mraise\u001b[0m \u001b[0mWebDriverException\u001b[0m\u001b[0;34m(\u001b[0m\u001b[0;34m\"Can not connect to the Service %s\"\u001b[0m \u001b[0;34m%\u001b[0m \u001b[0mself\u001b[0m\u001b[0;34m.\u001b[0m\u001b[0mpath\u001b[0m\u001b[0;34m)\u001b[0m\u001b[0;34m\u001b[0m\u001b[0;34m\u001b[0m\u001b[0m\n",
      "\u001b[0;31mKeyboardInterrupt\u001b[0m: "
     ]
    }
   ],
   "source": [
    "from selenium import webdriver   #mostly final\n",
    "from bs4 import BeautifulSoup\n",
    "import requests\n",
    "import urllib\n",
    "import urllib.request\n",
    "import sys\n",
    "import os\n",
    "import random\n",
    "import math\n",
    "import pandas as pd\n",
    "\n",
    "site= \"https://a253013.sitemaphosting6.com/4227023/sitemap.xml\"\n",
    "driver = webdriver.Firefox()\n",
    "driver.get(site)\n",
    "soup = BeautifulSoup(driver.page_source, 'html.parser')\n",
    "div_tags = soup.find_all(\"div\")\n",
    "div=div_tags[1]\n",
    "links=div.findAll(\"a\")\n",
    "urls=[]\n",
    "for i in range(len(links)):\n",
    "    a=str(links[i])\n",
    "    i=a.find(\"https\")\n",
    "    j=a.rfind(\"https\")\n",
    "    b=a[i:j-2]\n",
    "    urls.append(b)\n",
    "    \n",
    "ll=[]\n",
    "#making a list of archive links.\n",
    "for i in range(len(urls)):\n",
    "    if urls[i].find(\"archives\")!=-1 and urls[i][-7:-3]==\"page\":\n",
    "        \n",
    "        ll.append(urls[i])\n",
    "    \n",
    "    else:\n",
    "        pass\n",
    "#generating code for naming\n",
    "code=[]\n",
    "for i in range(len(ll)):\n",
    "    digits = [i for i in range(0, 10)]\n",
    "    random_str = \"\"\n",
    "    for i in range(6):\n",
    "        index = math.floor(random.random() * 10)\n",
    "        random_str += str(digits[index])\n",
    "    code.append(random_str)\n",
    "    \n",
    "monthconvert={\n",
    "    \"January\":\"01\",\n",
    "    \"February\":\"02\",\n",
    "    \"March\":\"03\",\n",
    "    \"April\":\"04\",\n",
    "    \"May\":\"05\",\n",
    "    \"June\":\"06\",\n",
    "    \"July\":\"07\",\n",
    "    \"August\":\"08\",\n",
    "    \"September\":\"09\",\n",
    "    \"October\":\"10\",\n",
    "    \"November\":\"11\",\n",
    "    \"December\":\"12\"       \n",
    "}\n",
    "      \n",
    "for j in range(len(ll)):\n",
    "   \n",
    "    url=ll[j]\n",
    "    driver = webdriver.Firefox()\n",
    "    driver.get(url)\n",
    "    obj = BeautifulSoup(driver.page_source, 'html.parser')\n",
    "    driver.close()\n",
    "    date=obj.find('font', attrs={'class':'title'})\n",
    "    date=str(date) # correct\n",
    "    s=0\n",
    "    while s!=-1:\n",
    "        s=date.find(\"<\")\n",
    "        e=date.find(\">\")\n",
    "        date=date.replace(date[s:e+1],\"\")\n",
    "        d=date.replace(\" \", \"*\")\n",
    "        \n",
    "    \n",
    "    g=d.find(\"*\")\n",
    "    m=d[0:g]\n",
    "    month=monthconvert[m]\n",
    "    c=d.find(\",\")\n",
    "    day=d[g+1:c]\n",
    "    year=d[-4:]\n",
    "    if year.find(\"2\")==-1: # for dates like 21 November,09\n",
    "        year=year.replace(\",*\",\"20\")\n",
    "        \n",
    "    \n",
    "        \n",
    "    matter =obj.find('p', attrs={'align':'justify'})\n",
    "    matter=str(matter)  # removes tags\n",
    "    s=0\n",
    "    while s!=-1:\n",
    "        s=matter.find(\"<\")\n",
    "        e=matter.find(\">\")\n",
    "        matter=matter.replace(matter[s:e+1],\"\")\n",
    "        \n",
    "    matter=matter[31:]\n",
    "    #writing contents now\n",
    "    with open('a{}{}{}{}.txt'.format(year,month,day,code[j]),'w') as f:\n",
    "        \n",
    "        f.write(matter)\n",
    "        f.close()\n",
    "    "
   ]
  },
  {
   "cell_type": "code",
   "execution_count": 2,
   "metadata": {},
   "outputs": [],
   "source": [
    "from selenium import webdriver   # correct\n",
    "from bs4 import BeautifulSoup\n",
    "import requests\n",
    "import urllib\n",
    "import urllib.request\n",
    "\n",
    "import sys\n",
    "import os\n",
    "import random\n",
    "import math\n",
    "import pandas as pd"
   ]
  },
  {
   "cell_type": "code",
   "execution_count": 4,
   "metadata": {},
   "outputs": [
    {
     "name": "stdout",
     "output_type": "stream",
     "text": [
      "February 22, 04\n"
     ]
    }
   ],
   "source": [
    "url=\"https://www.organiser.org/archives/dynamic/modulese427.html?name=Content&pa=showpage&pid=5&page=30\"\n",
    "driver = webdriver.Firefox()\n",
    "driver.get(url)\n",
    "obj = BeautifulSoup(driver.page_source, 'html.parser')\n",
    "driver.close()\n",
    "date=obj.find('font', attrs={'class':'title'})\n",
    "date=str(date) # correct\n",
    "s=0\n",
    "while s!=-1:\n",
    "    s=date.find(\"<\")\n",
    "    e=date.find(\">\")\n",
    "    date=date.replace(date[s:e+1],\"\")\n",
    "print(date)"
   ]
  },
  {
   "cell_type": "code",
   "execution_count": 5,
   "metadata": {},
   "outputs": [],
   "source": [
    "d=date.replace(\" \", \"*\")"
   ]
  },
  {
   "cell_type": "code",
   "execution_count": 6,
   "metadata": {},
   "outputs": [
    {
     "data": {
      "text/plain": [
       "'February*22,*04'"
      ]
     },
     "execution_count": 6,
     "metadata": {},
     "output_type": "execute_result"
    }
   ],
   "source": [
    "d"
   ]
  },
  {
   "cell_type": "code",
   "execution_count": 7,
   "metadata": {},
   "outputs": [],
   "source": [
    "monthconvert={\n",
    "    \"January\":\"01\",\n",
    "    \"February\":\"02\",\n",
    "    \"March\":\"03\",\n",
    "    \"April\":\"04\",\n",
    "    \"May\":\"05\",\n",
    "    \"June\":\"06\",\n",
    "    \"July\":\"07\",\n",
    "    \"August\":\"08\",\n",
    "    \"September\":\"09\",\n",
    "    \"October\":\"10\",\n",
    "    \"November\":\"11\",\n",
    "    \"December\":\"12\"       \n",
    "}"
   ]
  },
  {
   "cell_type": "code",
   "execution_count": 8,
   "metadata": {},
   "outputs": [],
   "source": [
    "g=d.find(\"*\")\n",
    "m=d[0:g]\n",
    "month=monthconvert[m]\n",
    "c=d.find(\",\")\n",
    "day=d[g+1:c]\n",
    "year=d[-4:]\n",
    "if year.find(\"2\")==-1:\n",
    "    year=year.replace(\",*\",\"20\")"
   ]
  },
  {
   "cell_type": "code",
   "execution_count": 9,
   "metadata": {},
   "outputs": [
    {
     "data": {
      "text/plain": [
       "'22'"
      ]
     },
     "execution_count": 9,
     "metadata": {},
     "output_type": "execute_result"
    }
   ],
   "source": [
    "day"
   ]
  },
  {
   "cell_type": "code",
   "execution_count": 10,
   "metadata": {},
   "outputs": [
    {
     "data": {
      "text/plain": [
       "'02'"
      ]
     },
     "execution_count": 10,
     "metadata": {},
     "output_type": "execute_result"
    }
   ],
   "source": [
    "month"
   ]
  },
  {
   "cell_type": "code",
   "execution_count": 11,
   "metadata": {},
   "outputs": [
    {
     "data": {
      "text/plain": [
       "',*04'"
      ]
     },
     "execution_count": 11,
     "metadata": {},
     "output_type": "execute_result"
    }
   ],
   "source": [
    "year"
   ]
  },
  {
   "cell_type": "code",
   "execution_count": 15,
   "metadata": {},
   "outputs": [],
   "source": [
    "if year.find(\"2\")==-1:\n",
    "    year=year.replace(\",*\",\"20\")"
   ]
  },
  {
   "cell_type": "code",
   "execution_count": 16,
   "metadata": {},
   "outputs": [
    {
     "data": {
      "text/plain": [
       "'2004'"
      ]
     },
     "execution_count": 16,
     "metadata": {},
     "output_type": "execute_result"
    }
   ],
   "source": [
    "year"
   ]
  },
  {
   "cell_type": "code",
   "execution_count": null,
   "metadata": {},
   "outputs": [],
   "source": [
    "if year.find(\"2\")==-1:\n",
    "    year=year.replace(\",*\",\"20\")"
   ]
  }
 ],
 "metadata": {
  "kernelspec": {
   "display_name": "Python 3",
   "language": "python",
   "name": "python3"
  },
  "language_info": {
   "codemirror_mode": {
    "name": "ipython",
    "version": 3
   },
   "file_extension": ".py",
   "mimetype": "text/x-python",
   "name": "python",
   "nbconvert_exporter": "python",
   "pygments_lexer": "ipython3",
   "version": "3.8.2"
  }
 },
 "nbformat": 4,
 "nbformat_minor": 4
}
