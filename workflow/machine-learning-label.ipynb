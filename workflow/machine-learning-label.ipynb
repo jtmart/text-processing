{
 "cells": [
  {
   "cell_type": "code",
   "execution_count": 1,
   "metadata": {
    "_cell_guid": "b1076dfc-b9ad-4769-8c92-a6c4dae69d19",
    "_uuid": "8f2839f25d086af736a60e9eeb907d3b93b6e0e5",
    "execution": {
     "iopub.execute_input": "2021-06-04T16:12:22.180573Z",
     "iopub.status.busy": "2021-06-04T16:12:22.180168Z",
     "iopub.status.idle": "2021-06-04T16:12:27.905250Z",
     "shell.execute_reply": "2021-06-04T16:12:27.904240Z",
     "shell.execute_reply.started": "2021-06-04T16:12:22.180497Z"
    }
   },
   "outputs": [],
   "source": [
    "import os\n",
    "import pandas as pd\n",
    "import numpy as np\n",
    "from nltk.corpus import stopwords\n",
    "from sklearn.feature_extraction.text import TfidfVectorizer\n",
    "import keras\n",
    "from sklearn.preprocessing import MinMaxScaler\n",
    "from sklearn.metrics import mean_squared_error\n",
    "from keras.models import Sequential\n",
    "from keras.layers import Dense\n",
    "from keras.layers import Dropout\n",
    "from keras.layers import Input\n",
    "from keras.models import Model\n",
    "from sklearn.metrics import accuracy_score\n",
    "from keras.utils import to_categorical\n",
    "import gc"
   ]
  },
  {
   "cell_type": "code",
   "execution_count": 22,
   "metadata": {
    "execution": {
     "iopub.execute_input": "2021-06-04T16:32:39.071688Z",
     "iopub.status.busy": "2021-06-04T16:32:39.071319Z",
     "iopub.status.idle": "2021-06-04T16:32:39.086881Z",
     "shell.execute_reply": "2021-06-04T16:32:39.086035Z",
     "shell.execute_reply.started": "2021-06-04T16:32:39.071658Z"
    }
   },
   "outputs": [],
   "source": [
    "def remove_punctuations(x):\n",
    "    pun = '''!()-[]{};:'\"\"\\,<>.+=`/?@’”#$%^&£*�_“‚…‘‘•~-—–1234567890'''\n",
    "    for i in range(len(x)):\n",
    "        x[i] = x[i].lower()\n",
    "        if('\\n' in x[i]):\n",
    "            x[i] = x[i].replace('\\n',' ')\n",
    "        for exp in pun:\n",
    "            if exp in x[i]:\n",
    "                x[i] = x[i].replace(exp,'')\n",
    "        if(len(x[i])>200):\n",
    "            x[i] = x[i][:x[i].find(' ',200)]\n",
    "    return x\n",
    "\n",
    "def get_real_y(y):\n",
    "    ny = pd.DataFrame(y)\n",
    "    ny[ny == 'foreignpolicy'] = 0\n",
    "    ny[ny == 'nationalpol'] = 1\n",
    "    ny[ny == 'personal'] = 2\n",
    "    ny[ny == 'selfpolitics'] = 3\n",
    "    ny[ny == 'statepol'] = 4\n",
    "    ny[ny == 'indeterminate'] = -1     \n",
    "    print(ny)\n",
    "    return ny\n",
    "def get_class(c):\n",
    "    if(c == 0):\n",
    "        return 'foreignpolicy'\n",
    "    elif(c == 1):\n",
    "        return 'nationalpol'\n",
    "    elif(c == 2):\n",
    "        return 'personal'\n",
    "    elif(c == 3):\n",
    "        return 'selfpolitics'\n",
    "    else:\n",
    "        return 'statepol'\n",
    "    \n",
    "\n",
    "def get_train_test_data(x,y):\n",
    "    neg_ind = np.where(y==-1)[0]\n",
    "    non_neg = np.where(y!=-1)[0]\n",
    "    test_x = x[neg_ind]\n",
    "    test_y = y[neg_ind]\n",
    "    train_x = x[non_neg]\n",
    "    train_y = y[non_neg]\n",
    "    return train_x,train_y,test_x,test_y\n",
    "\n",
    "def nFold(samples,labels,n,i):\n",
    "    l = len(samples)\n",
    "    start = int(l/n)*i\n",
    "    end = int(l/n)*(i+1)\n",
    "    return np.concatenate((samples[0:start],samples[end:l]),axis = 0),np.concatenate((labels[0:start],labels[end:l]),axis = None),samples[start:end],labels[start:end]    "
   ]
  },
  {
   "cell_type": "code",
   "execution_count": 3,
   "metadata": {
    "execution": {
     "iopub.execute_input": "2021-06-04T16:12:27.936999Z",
     "iopub.status.busy": "2021-06-04T16:12:27.934488Z",
     "iopub.status.idle": "2021-06-04T16:12:38.745260Z",
     "shell.execute_reply": "2021-06-04T16:12:38.744257Z",
     "shell.execute_reply.started": "2021-06-04T16:12:27.936964Z"
    }
   },
   "outputs": [],
   "source": [
    "col = ['text','typegeneral']\n",
    "df = pd.read_feather('../input/csh-jt-intern/dataframeX',columns = col)"
   ]
  },
  {
   "cell_type": "code",
   "execution_count": 4,
   "metadata": {
    "execution": {
     "iopub.execute_input": "2021-06-04T16:12:38.748793Z",
     "iopub.status.busy": "2021-06-04T16:12:38.748536Z",
     "iopub.status.idle": "2021-06-04T16:12:58.320755Z",
     "shell.execute_reply": "2021-06-04T16:12:58.319245Z",
     "shell.execute_reply.started": "2021-06-04T16:12:38.748767Z"
    }
   },
   "outputs": [
    {
     "name": "stdout",
     "output_type": "stream",
     "text": [
      "        0\n",
      "0       3\n",
      "1       2\n",
      "2       2\n",
      "3       2\n",
      "4       2\n",
      "...    ..\n",
      "692537  1\n",
      "692538  1\n",
      "692539  1\n",
      "692540  1\n",
      "692541  1\n",
      "\n",
      "[692542 rows x 1 columns]\n"
     ]
    }
   ],
   "source": [
    "x,y = list(df['text']),list(df['typegeneral'])\n",
    "x = remove_punctuations(x)\n",
    "y = get_real_y(y)\n",
    "y = np.array(y[0])"
   ]
  },
  {
   "cell_type": "code",
   "execution_count": 5,
   "metadata": {
    "execution": {
     "iopub.execute_input": "2021-06-04T16:12:58.322651Z",
     "iopub.status.busy": "2021-06-04T16:12:58.322308Z",
     "iopub.status.idle": "2021-06-04T16:13:18.990408Z",
     "shell.execute_reply": "2021-06-04T16:13:18.989525Z",
     "shell.execute_reply.started": "2021-06-04T16:12:58.322614Z"
    }
   },
   "outputs": [],
   "source": [
    "mf = 1000\n",
    "vectorizer = TfidfVectorizer(stop_words = 'english',max_features = mf)\n",
    "x = vectorizer.fit_transform(x)"
   ]
  },
  {
   "cell_type": "code",
   "execution_count": 8,
   "metadata": {
    "execution": {
     "iopub.execute_input": "2021-06-04T16:18:26.519568Z",
     "iopub.status.busy": "2021-06-04T16:18:26.519253Z",
     "iopub.status.idle": "2021-06-04T16:18:26.590296Z",
     "shell.execute_reply": "2021-06-04T16:18:26.589443Z",
     "shell.execute_reply.started": "2021-06-04T16:18:26.519540Z"
    }
   },
   "outputs": [],
   "source": [
    "train_x,train_y,test_x,test_y = get_train_test_data(x,y)"
   ]
  },
  {
   "cell_type": "code",
   "execution_count": 38,
   "metadata": {
    "execution": {
     "iopub.execute_input": "2021-06-04T16:11:02.450186Z",
     "iopub.status.busy": "2021-06-04T16:11:02.449874Z",
     "iopub.status.idle": "2021-06-04T16:11:02.610519Z",
     "shell.execute_reply": "2021-06-04T16:11:02.609276Z",
     "shell.execute_reply.started": "2021-06-04T16:11:02.450159Z"
    }
   },
   "outputs": [
    {
     "data": {
      "text/plain": [
       "22"
      ]
     },
     "execution_count": 38,
     "metadata": {},
     "output_type": "execute_result"
    }
   ],
   "source": [
    "del train_x,train_y\n",
    "gc.collect()"
   ]
  },
  {
   "cell_type": "code",
   "execution_count": 9,
   "metadata": {
    "execution": {
     "iopub.execute_input": "2021-06-04T16:18:38.109930Z",
     "iopub.status.busy": "2021-06-04T16:18:38.109604Z",
     "iopub.status.idle": "2021-06-04T16:18:44.631735Z",
     "shell.execute_reply": "2021-06-04T16:18:44.630914Z",
     "shell.execute_reply.started": "2021-06-04T16:18:38.109900Z"
    }
   },
   "outputs": [],
   "source": [
    "train_x = train_x.toarray().astype(np.float32)\n",
    "train_y = to_categorical(train_y).astype(np.float32)\n",
    "test_x = test_x.toarray().astype(np.float32)"
   ]
  },
  {
   "cell_type": "code",
   "execution_count": 10,
   "metadata": {
    "execution": {
     "iopub.execute_input": "2021-06-04T16:18:57.356588Z",
     "iopub.status.busy": "2021-06-04T16:18:57.356219Z",
     "iopub.status.idle": "2021-06-04T16:18:57.366291Z",
     "shell.execute_reply": "2021-06-04T16:18:57.365116Z",
     "shell.execute_reply.started": "2021-06-04T16:18:57.356557Z"
    }
   },
   "outputs": [
    {
     "data": {
      "text/plain": [
       "(335559, 1000)"
      ]
     },
     "execution_count": 10,
     "metadata": {},
     "output_type": "execute_result"
    }
   ],
   "source": [
    "test_x.shape"
   ]
  },
  {
   "cell_type": "code",
   "execution_count": 11,
   "metadata": {
    "execution": {
     "iopub.execute_input": "2021-06-04T16:19:02.231906Z",
     "iopub.status.busy": "2021-06-04T16:19:02.231573Z",
     "iopub.status.idle": "2021-06-04T16:19:04.266852Z",
     "shell.execute_reply": "2021-06-04T16:19:04.266043Z",
     "shell.execute_reply.started": "2021-06-04T16:19:02.231875Z"
    }
   },
   "outputs": [
    {
     "name": "stdout",
     "output_type": "stream",
     "text": [
      "Model: \"sequential\"\n",
      "_________________________________________________________________\n",
      "Layer (type)                 Output Shape              Param #   \n",
      "=================================================================\n",
      "dense (Dense)                (None, 1, 100)            100100    \n",
      "_________________________________________________________________\n",
      "dropout (Dropout)            (None, 1, 100)            0         \n",
      "_________________________________________________________________\n",
      "dense_1 (Dense)              (None, 1, 1000)           101000    \n",
      "_________________________________________________________________\n",
      "dropout_1 (Dropout)          (None, 1, 1000)           0         \n",
      "_________________________________________________________________\n",
      "dense_2 (Dense)              (None, 1, 100)            100100    \n",
      "_________________________________________________________________\n",
      "dense_3 (Dense)              (None, 1, 5)              505       \n",
      "=================================================================\n",
      "Total params: 301,705\n",
      "Trainable params: 301,705\n",
      "Non-trainable params: 0\n",
      "_________________________________________________________________\n"
     ]
    }
   ],
   "source": [
    "model=Sequential()\n",
    "model.add(Dense(100,input_shape=(1,mf)))\n",
    "model.add(Dropout(0.2))\n",
    "model.add(Dense(1000))\n",
    "model.add(Dropout(0.2))\n",
    "model.add(Dense(100))\n",
    "model.add(Dense(5,activation=\"softmax\"))\n",
    "model.compile(loss=\"categorical_crossentropy\", optimizer=\"adam\", metrics=[\"accuracy\"])\n",
    "model.summary()"
   ]
  },
  {
   "cell_type": "code",
   "execution_count": 33,
   "metadata": {
    "execution": {
     "iopub.execute_input": "2021-06-04T16:06:18.030259Z",
     "iopub.status.busy": "2021-06-04T16:06:18.029924Z",
     "iopub.status.idle": "2021-06-04T16:06:18.036336Z",
     "shell.execute_reply": "2021-06-04T16:06:18.035282Z",
     "shell.execute_reply.started": "2021-06-04T16:06:18.030213Z"
    }
   },
   "outputs": [
    {
     "data": {
      "text/plain": [
       "array([[0., 0., 0., 1., 0.],\n",
       "       [0., 0., 1., 0., 0.],\n",
       "       [0., 0., 1., 0., 0.],\n",
       "       ...,\n",
       "       [0., 1., 0., 0., 0.],\n",
       "       [0., 1., 0., 0., 0.],\n",
       "       [0., 1., 0., 0., 0.]], dtype=float32)"
      ]
     },
     "execution_count": 33,
     "metadata": {},
     "output_type": "execute_result"
    }
   ],
   "source": [
    "train_y"
   ]
  },
  {
   "cell_type": "code",
   "execution_count": 12,
   "metadata": {
    "execution": {
     "iopub.execute_input": "2021-06-04T16:19:31.594001Z",
     "iopub.status.busy": "2021-06-04T16:19:31.593632Z",
     "iopub.status.idle": "2021-06-04T16:19:59.123823Z",
     "shell.execute_reply": "2021-06-04T16:19:59.123047Z",
     "shell.execute_reply.started": "2021-06-04T16:19:31.593970Z"
    }
   },
   "outputs": [
    {
     "name": "stdout",
     "output_type": "stream",
     "text": [
      "11156/11156 [==============================] - 26s 2ms/step - loss: 0.1252 - accuracy: 0.9616\n"
     ]
    },
    {
     "data": {
      "text/plain": [
       "<tensorflow.python.keras.callbacks.History at 0x7fa6a043d190>"
      ]
     },
     "execution_count": 12,
     "metadata": {},
     "output_type": "execute_result"
    }
   ],
   "source": [
    "model.fit(train_x,train_y,batch_size = 32, epochs = 1,verbose = 1)"
   ]
  },
  {
   "cell_type": "code",
   "execution_count": 36,
   "metadata": {
    "execution": {
     "iopub.execute_input": "2021-06-04T16:07:25.577547Z",
     "iopub.status.busy": "2021-06-04T16:07:25.577221Z",
     "iopub.status.idle": "2021-06-04T16:07:37.934750Z",
     "shell.execute_reply": "2021-06-04T16:07:37.933676Z",
     "shell.execute_reply.started": "2021-06-04T16:07:25.577516Z"
    }
   },
   "outputs": [
    {
     "name": "stdout",
     "output_type": "stream",
     "text": [
      "3125/3125 [==============================] - 12s 4ms/step - loss: 0.3284 - accuracy: 0.8852 - val_loss: 0.0182 - val_accuracy: 0.9980\n"
     ]
    },
    {
     "data": {
      "text/plain": [
       "<tensorflow.python.keras.callbacks.History at 0x7ff2462fb9d0>"
      ]
     },
     "execution_count": 36,
     "metadata": {},
     "output_type": "execute_result"
    }
   ],
   "source": [
    "#Testing\n",
    "model.fit(train_x[:100000],train_y[:100000],batch_size = 32, epochs = 1,verbose = 1,validation_data=(train_x[100000:200000], train_y[100000:200000]))"
   ]
  },
  {
   "cell_type": "code",
   "execution_count": 13,
   "metadata": {
    "execution": {
     "iopub.execute_input": "2021-06-04T16:20:20.674918Z",
     "iopub.status.busy": "2021-06-04T16:20:20.674561Z",
     "iopub.status.idle": "2021-06-04T16:20:29.069945Z",
     "shell.execute_reply": "2021-06-04T16:20:29.068977Z",
     "shell.execute_reply.started": "2021-06-04T16:20:20.674885Z"
    }
   },
   "outputs": [],
   "source": [
    "pred = model.predict(test_x)"
   ]
  },
  {
   "cell_type": "code",
   "execution_count": 14,
   "metadata": {
    "execution": {
     "iopub.execute_input": "2021-06-04T16:20:48.084076Z",
     "iopub.status.busy": "2021-06-04T16:20:48.083709Z",
     "iopub.status.idle": "2021-06-04T16:20:48.090774Z",
     "shell.execute_reply": "2021-06-04T16:20:48.089960Z",
     "shell.execute_reply.started": "2021-06-04T16:20:48.084042Z"
    }
   },
   "outputs": [],
   "source": [
    "pred_classes = pred.argmax(axis = -1)"
   ]
  },
  {
   "cell_type": "code",
   "execution_count": 18,
   "metadata": {
    "execution": {
     "iopub.execute_input": "2021-06-04T16:22:35.323901Z",
     "iopub.status.busy": "2021-06-04T16:22:35.323558Z",
     "iopub.status.idle": "2021-06-04T16:22:35.427203Z",
     "shell.execute_reply": "2021-06-04T16:22:35.426150Z",
     "shell.execute_reply.started": "2021-06-04T16:22:35.323870Z"
    }
   },
   "outputs": [
    {
     "name": "stdout",
     "output_type": "stream",
     "text": [
      "335559\n",
      "335559\n",
      "335559\n"
     ]
    }
   ],
   "source": [
    "print(len(pred_classes))\n",
    "print(len(test_x))\n",
    "print(len(df[df['typegeneral']=='indeterminate']))"
   ]
  },
  {
   "cell_type": "code",
   "execution_count": 35,
   "metadata": {
    "execution": {
     "iopub.execute_input": "2021-06-04T16:43:07.207452Z",
     "iopub.status.busy": "2021-06-04T16:43:07.207124Z",
     "iopub.status.idle": "2021-06-04T16:43:08.643800Z",
     "shell.execute_reply": "2021-06-04T16:43:08.642960Z",
     "shell.execute_reply.started": "2021-06-04T16:43:07.207421Z"
    }
   },
   "outputs": [],
   "source": [
    "predicted_class = []\n",
    "predicted_prob = []\n",
    "j = 0\n",
    "for i in df['typegeneral']:\n",
    "    if(i =='indeterminate'):\n",
    "        c = get_class(predicted_class[j])\n",
    "        p = max(pred[j])\n",
    "        j+=1\n",
    "    else:\n",
    "        c = i\n",
    "        p = 1\n",
    "    predicted_class.append(c)\n",
    "    predicted_prob.append(p)"
   ]
  },
  {
   "cell_type": "code",
   "execution_count": 42,
   "metadata": {
    "execution": {
     "iopub.execute_input": "2021-06-04T16:47:26.375617Z",
     "iopub.status.busy": "2021-06-04T16:47:26.375302Z",
     "iopub.status.idle": "2021-06-04T16:47:26.380512Z",
     "shell.execute_reply": "2021-06-04T16:47:26.379404Z",
     "shell.execute_reply.started": "2021-06-04T16:47:26.375587Z"
    }
   },
   "outputs": [],
   "source": [
    "data = {\n",
    "    'Predicted_Class':predicted_class,\n",
    "    'Probability':predicted_prob\n",
    "}"
   ]
  },
  {
   "cell_type": "code",
   "execution_count": 43,
   "metadata": {
    "execution": {
     "iopub.execute_input": "2021-06-04T16:47:39.611387Z",
     "iopub.status.busy": "2021-06-04T16:47:39.611066Z",
     "iopub.status.idle": "2021-06-04T16:47:39.882819Z",
     "shell.execute_reply": "2021-06-04T16:47:39.882005Z",
     "shell.execute_reply.started": "2021-06-04T16:47:39.611358Z"
    }
   },
   "outputs": [],
   "source": [
    "dfn = pd.DataFrame(data)"
   ]
  },
  {
   "cell_type": "code",
   "execution_count": 47,
   "metadata": {
    "execution": {
     "iopub.execute_input": "2021-06-04T16:49:46.529660Z",
     "iopub.status.busy": "2021-06-04T16:49:46.529334Z",
     "iopub.status.idle": "2021-06-04T16:49:48.492480Z",
     "shell.execute_reply": "2021-06-04T16:49:48.491635Z",
     "shell.execute_reply.started": "2021-06-04T16:49:46.529631Z"
    }
   },
   "outputs": [],
   "source": [
    "dfn.to_csv('results.csv',index = False)"
   ]
  },
  {
   "cell_type": "code",
   "execution_count": 48,
   "metadata": {
    "execution": {
     "iopub.execute_input": "2021-06-04T16:58:32.580452Z",
     "iopub.status.busy": "2021-06-04T16:58:32.580133Z",
     "iopub.status.idle": "2021-06-04T16:58:32.714793Z",
     "shell.execute_reply": "2021-06-04T16:58:32.713929Z",
     "shell.execute_reply.started": "2021-06-04T16:58:32.580424Z"
    }
   },
   "outputs": [],
   "source": [
    "pp = np.array(predicted_prob)"
   ]
  },
  {
   "cell_type": "code",
   "execution_count": 49,
   "metadata": {
    "execution": {
     "iopub.execute_input": "2021-06-04T16:59:46.441103Z",
     "iopub.status.busy": "2021-06-04T16:59:46.440729Z",
     "iopub.status.idle": "2021-06-04T16:59:46.451692Z",
     "shell.execute_reply": "2021-06-04T16:59:46.450718Z",
     "shell.execute_reply.started": "2021-06-04T16:59:46.441072Z"
    }
   },
   "outputs": [
    {
     "name": "stdout",
     "output_type": "stream",
     "text": [
      "1.0\n",
      "0.22524723410606384\n",
      "0.8848673352861062\n",
      "0.03314284281941712\n"
     ]
    }
   ],
   "source": [
    "print(np.max(pp))\n",
    "print(np.min(pp))\n",
    "print(np.mean(pp))\n",
    "print(np.var(pp))"
   ]
  },
  {
   "cell_type": "code",
   "execution_count": null,
   "metadata": {},
   "outputs": [],
   "source": []
  }
 ],
 "metadata": {
  "kernelspec": {
   "display_name": "Python 3",
   "language": "python",
   "name": "python3"
  },
  "language_info": {
   "codemirror_mode": {
    "name": "ipython",
    "version": 3
   },
   "file_extension": ".py",
   "mimetype": "text/x-python",
   "name": "python",
   "nbconvert_exporter": "python",
   "pygments_lexer": "ipython3",
   "version": "3.7.6"
  }
 },
 "nbformat": 4,
 "nbformat_minor": 4
}
